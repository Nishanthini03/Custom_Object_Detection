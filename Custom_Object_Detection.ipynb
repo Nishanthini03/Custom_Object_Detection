{
  "nbformat": 4,
  "nbformat_minor": 0,
  "metadata": {
    "colab": {
      "provenance": [],
      "mount_file_id": "1f4YURgMPTgNgHDj0pMy3fHa1tBjJUmVU",
      "authorship_tag": "ABX9TyNPp9Saa+GrZVGBkjMdAQXD",
      "include_colab_link": true
    },
    "kernelspec": {
      "name": "python3",
      "display_name": "Python 3"
    },
    "language_info": {
      "name": "python"
    }
  },
  "cells": [
    {
      "cell_type": "markdown",
      "metadata": {
        "id": "view-in-github",
        "colab_type": "text"
      },
      "source": [
        "<a href=\"https://colab.research.google.com/github/Nishanthini03/Custom_Object_Detection/blob/main/Custom_Object_Detection.ipynb\" target=\"_parent\"><img src=\"https://colab.research.google.com/assets/colab-badge.svg\" alt=\"Open In Colab\"/></a>"
      ]
    },
    {
      "cell_type": "code",
      "source": [
        "import os, shutil\n",
        "import random\n",
        "\n",
        "def split_and_copy(source_folder, target_root, class_id):\n",
        "    files = [f for f in os.listdir(source_folder) if f.endswith(('.png'))]\n",
        "    random.shuffle(files)\n",
        "    train_split = int(len(files) * 0.8)\n",
        "    train_files = files[:train_split]\n",
        "    val_files = files[train_split:]\n",
        "\n",
        "    for phase, file_list in zip(['train', 'val'], [train_files, val_files]):\n",
        "        for f in file_list:\n",
        "            shutil.copy(os.path.join(source_folder, f), os.path.join(target_root, 'images', phase, f))\n",
        "\n",
        "os.makedirs('animals_yolo/images/train', exist_ok=True)\n",
        "os.makedirs('animals_yolo/images/val', exist_ok=True)\n",
        "os.makedirs('animals_yolo/labels/train', exist_ok=True)\n",
        "os.makedirs('animals_yolo/labels/val', exist_ok=True)\n",
        "\n",
        "split_and_copy('/content/drive/MyDrive/AI_Internship/task3/animals/dog', 'animals_yolo', class_id=0)\n",
        "split_and_copy('/content/drive/MyDrive/AI_Internship/task3/animals/cat', 'animals_yolo', class_id=1)\n"
      ],
      "metadata": {
        "id": "mGZSOHrczhKs"
      },
      "execution_count": null,
      "outputs": []
    },
    {
      "cell_type": "code",
      "source": [
        "!zip -r animals_yolo.zip animals_yolo/"
      ],
      "metadata": {
        "colab": {
          "base_uri": "https://localhost:8080/"
        },
        "id": "Gcn1yZsIv92j",
        "outputId": "0f498de4-2f2f-46a7-9b65-9a64bc24f98d"
      },
      "execution_count": null,
      "outputs": [
        {
          "output_type": "stream",
          "name": "stdout",
          "text": [
            "  adding: animals_yolo/ (stored 0%)\n",
            "  adding: animals_yolo/images/ (stored 0%)\n",
            "  adding: animals_yolo/images/val/ (stored 0%)\n",
            "  adding: animals_yolo/images/val/00007-4122619880.png (deflated 0%)\n",
            "  adding: animals_yolo/images/val/00199-200124509.png (deflated 0%)\n",
            "  adding: animals_yolo/images/val/00517-3846168679.png (deflated 0%)\n",
            "  adding: animals_yolo/images/val/00510-3846168672.png (deflated 0%)\n",
            "  adding: animals_yolo/images/val/00554-3846168716.png (deflated 0%)\n",
            "  adding: animals_yolo/images/val/00518-3846168680.png (deflated 0%)\n",
            "  adding: animals_yolo/images/val/00542-3846168704.png (deflated 0%)\n",
            "  adding: animals_yolo/images/val/00520-3846168682.png (deflated 0%)\n",
            "  adding: animals_yolo/images/val/00011-4122619884.png (deflated 0%)\n",
            "  adding: animals_yolo/images/val/51502305736yllmbimoyvsja3byk27ta7f727tfuedsgvjshiqn0eejylk2bqdifjjyk6bg2hbgyizzrb34i7ekjcncgrfq5x5dj7p6xxrj0mer.png (deflated 0%)\n",
            "  adding: animals_yolo/images/val/00500-3846168662.png (deflated 0%)\n",
            "  adding: animals_yolo/images/val/00461-200124771.png (deflated 0%)\n",
            "  adding: animals_yolo/images/val/00008-4122619881.png (deflated 0%)\n",
            "  adding: animals_yolo/images/val/00514-3846168676.png (deflated 0%)\n",
            "  adding: animals_yolo/images/val/00507-3846168669.png (deflated 0%)\n",
            "  adding: animals_yolo/images/val/00245-200124555.png (deflated 0%)\n",
            "  adding: animals_yolo/images/val/00415-200124725.png (deflated 0%)\n",
            "  adding: animals_yolo/images/val/00375-200124685.png (deflated 0%)\n",
            "  adding: animals_yolo/images/val/00193-200124503.png (deflated 0%)\n",
            "  adding: animals_yolo/images/val/00505-3846168667.png (deflated 0%)\n",
            "  adding: animals_yolo/images/val/00238-200124548.png (deflated 0%)\n",
            "  adding: animals_yolo/images/val/00516-3846168678.png (deflated 0%)\n",
            "  adding: animals_yolo/images/val/13-2-cat-png-11.png (deflated 1%)\n",
            "  adding: animals_yolo/images/train/ (stored 0%)\n",
            "  adding: animals_yolo/images/train/00007-4122619880.png (deflated 0%)\n",
            "  adding: animals_yolo/images/train/00002-4122619875.png (deflated 0%)\n",
            "  adding: animals_yolo/images/train/00199-200124509.png (deflated 0%)\n",
            "  adding: animals_yolo/images/train/00239-200124549.png (deflated 0%)\n",
            "  adding: animals_yolo/images/train/00517-3846168679.png (deflated 0%)\n",
            "  adding: animals_yolo/images/train/00510-3846168672.png (deflated 0%)\n",
            "  adding: animals_yolo/images/train/00554-3846168716.png (deflated 0%)\n",
            "  adding: animals_yolo/images/train/00010-4122619883.png (deflated 0%)\n",
            "  adding: animals_yolo/images/train/00001-4122619874.png (deflated 0%)\n",
            "  adding: animals_yolo/images/train/00518-3846168680.png (deflated 0%)\n",
            "  adding: animals_yolo/images/train/00003-4122619876.png (deflated 0%)\n",
            "  adding: animals_yolo/images/train/00004-4122619877.png (deflated 0%)\n",
            "  adding: animals_yolo/images/train/00542-3846168704.png (deflated 0%)\n",
            "  adding: animals_yolo/images/train/00520-3846168682.png (deflated 0%)\n",
            "  adding: animals_yolo/images/train/00522-3846168684.png (deflated 0%)\n",
            "  adding: animals_yolo/images/train/00011-4122619884.png (deflated 0%)\n",
            "  adding: animals_yolo/images/train/51502305736yllmbimoyvsja3byk27ta7f727tfuedsgvjshiqn0eejylk2bqdifjjyk6bg2hbgyizzrb34i7ekjcncgrfq5x5dj7p6xxrj0mer.png (deflated 0%)\n",
            "  adding: animals_yolo/images/train/00006-4122619879.png (deflated 0%)\n",
            "  adding: animals_yolo/images/train/00500-3846168662.png (deflated 0%)\n",
            "  adding: animals_yolo/images/train/00461-200124771.png (deflated 0%)\n",
            "  adding: animals_yolo/images/train/00212-200124522.png (deflated 0%)\n",
            "  adding: animals_yolo/images/train/00204-200124514.png (deflated 0%)\n",
            "  adding: animals_yolo/images/train/00503-3846168665.png (deflated 0%)\n",
            "  adding: animals_yolo/images/train/00000-4122619873.png (deflated 0%)\n",
            "  adding: animals_yolo/images/train/00008-4122619881.png (deflated 0%)\n",
            "  adding: animals_yolo/images/train/00523-3846168685.png (deflated 0%)\n",
            "  adding: animals_yolo/images/train/00504-3846168666.png (deflated 0%)\n",
            "  adding: animals_yolo/images/train/00005-4122619878.png (deflated 0%)\n",
            "  adding: animals_yolo/images/train/00192-200124502.png (deflated 0%)\n",
            "  adding: animals_yolo/images/train/00198-200124508.png (deflated 0%)\n",
            "  adding: animals_yolo/images/train/00353-200124663.png (deflated 0%)\n",
            "  adding: animals_yolo/images/train/00506-3846168668.png (deflated 0%)\n",
            "  adding: animals_yolo/images/train/00507-3846168669.png (deflated 0%)\n",
            "  adding: animals_yolo/images/train/00245-200124555.png (deflated 0%)\n",
            "  adding: animals_yolo/images/train/00519-3846168681.png (deflated 1%)\n",
            "  adding: animals_yolo/images/train/00509-3846168671.png (deflated 0%)\n",
            "  adding: animals_yolo/images/train/00515-3846168677.png (deflated 0%)\n",
            "  adding: animals_yolo/images/train/00501-3846168663.png (deflated 0%)\n",
            "  adding: animals_yolo/images/train/00549-3846168711.png (deflated 0%)\n",
            "  adding: animals_yolo/images/train/00555-3846168717.png (deflated 0%)\n",
            "  adding: animals_yolo/images/train/00415-200124725.png (deflated 0%)\n",
            "  adding: animals_yolo/images/train/00375-200124685.png (deflated 0%)\n",
            "  adding: animals_yolo/images/train/00193-200124503.png (deflated 0%)\n",
            "  adding: animals_yolo/images/train/00508-3846168670.png (deflated 0%)\n",
            "  adding: animals_yolo/images/train/00505-3846168667.png (deflated 0%)\n",
            "  adding: animals_yolo/images/train/00238-200124548.png (deflated 0%)\n",
            "  adding: animals_yolo/images/train/00543-3846168705.png (deflated 0%)\n",
            "  adding: animals_yolo/images/train/00511-3846168673.png (deflated 0%)\n",
            "  adding: animals_yolo/images/train/00502-3846168664.png (deflated 0%)\n",
            "  adding: animals_yolo/images/train/00226-200124536.png (deflated 0%)\n",
            "  adding: animals_yolo/images/train/00512-3846168674.png (deflated 0%)\n",
            "  adding: animals_yolo/images/train/00497-200124807.png (deflated 0%)\n",
            "  adding: animals_yolo/images/train/00513-3846168675.png (deflated 0%)\n",
            "  adding: animals_yolo/images/train/00548-3846168710.png (deflated 0%)\n",
            "  adding: animals_yolo/images/train/00009-4122619882.png (deflated 0%)\n",
            "  adding: animals_yolo/images/train/00516-3846168678.png (deflated 0%)\n",
            "  adding: animals_yolo/images/train/13-2-cat-png-11.png (deflated 1%)\n",
            "  adding: animals_yolo/images/train/00521-3846168683.png (deflated 0%)\n",
            "  adding: animals_yolo/images/train/00205-200124515.png (deflated 0%)\n",
            "  adding: animals_yolo/labels/ (stored 0%)\n",
            "  adding: animals_yolo/labels/val/ (stored 0%)\n",
            "  adding: animals_yolo/labels/train/ (stored 0%)\n"
          ]
        }
      ]
    },
    {
      "cell_type": "code",
      "source": [
        "from google.colab import files\n",
        "files.download('animals_yolo.zip')"
      ],
      "metadata": {
        "id": "JUgE2wnx5mR3",
        "outputId": "7433c096-5b4e-449e-8699-6a58309d007e",
        "colab": {
          "base_uri": "https://localhost:8080/",
          "height": 34
        }
      },
      "execution_count": null,
      "outputs": [
        {
          "output_type": "display_data",
          "data": {
            "text/plain": [
              "<IPython.core.display.Javascript object>"
            ],
            "application/javascript": [
              "\n",
              "    async function download(id, filename, size) {\n",
              "      if (!google.colab.kernel.accessAllowed) {\n",
              "        return;\n",
              "      }\n",
              "      const div = document.createElement('div');\n",
              "      const label = document.createElement('label');\n",
              "      label.textContent = `Downloading \"${filename}\": `;\n",
              "      div.appendChild(label);\n",
              "      const progress = document.createElement('progress');\n",
              "      progress.max = size;\n",
              "      div.appendChild(progress);\n",
              "      document.body.appendChild(div);\n",
              "\n",
              "      const buffers = [];\n",
              "      let downloaded = 0;\n",
              "\n",
              "      const channel = await google.colab.kernel.comms.open(id);\n",
              "      // Send a message to notify the kernel that we're ready.\n",
              "      channel.send({})\n",
              "\n",
              "      for await (const message of channel.messages) {\n",
              "        // Send a message to notify the kernel that we're ready.\n",
              "        channel.send({})\n",
              "        if (message.buffers) {\n",
              "          for (const buffer of message.buffers) {\n",
              "            buffers.push(buffer);\n",
              "            downloaded += buffer.byteLength;\n",
              "            progress.value = downloaded;\n",
              "          }\n",
              "        }\n",
              "      }\n",
              "      const blob = new Blob(buffers, {type: 'application/binary'});\n",
              "      const a = document.createElement('a');\n",
              "      a.href = window.URL.createObjectURL(blob);\n",
              "      a.download = filename;\n",
              "      div.appendChild(a);\n",
              "      a.click();\n",
              "      div.remove();\n",
              "    }\n",
              "  "
            ]
          },
          "metadata": {}
        },
        {
          "output_type": "display_data",
          "data": {
            "text/plain": [
              "<IPython.core.display.Javascript object>"
            ],
            "application/javascript": [
              "download(\"download_f0d3e034-cb84-414a-86ce-d203d26b0fd2\", \"animals_yolo.zip\", 34470159)"
            ]
          },
          "metadata": {}
        }
      ]
    },
    {
      "cell_type": "markdown",
      "source": [
        "**Code for the metric**"
      ],
      "metadata": {
        "id": "QvONgPNLP328"
      }
    },
    {
      "cell_type": "code",
      "source": [
        "import numpy as np\n",
        "\n",
        "def compute_iou(box1, box2):\n",
        "    # box format: [x_center, y_center, width, height]\n",
        "    x1_min = box1[0] - box1[2] / 2\n",
        "    y1_min = box1[1] - box1[3] / 2\n",
        "    x1_max = box1[0] + box1[2] / 2\n",
        "    y1_max = box1[1] + box1[3] / 2\n",
        "\n",
        "    x2_min = box2[0] - box2[2] / 2\n",
        "    y2_min = box2[1] - box2[3] / 2\n",
        "    x2_max = box2[0] + box2[2] / 2\n",
        "    y2_max = box2[1] + box2[3] / 2\n",
        "\n",
        "    inter_xmin = max(x1_min, x2_min)\n",
        "    inter_ymin = max(y1_min, y2_min)\n",
        "    inter_xmax = min(x1_max, x2_max)\n",
        "    inter_ymax = min(y1_max, y2_max)\n",
        "\n",
        "    inter_area = max(0, inter_xmax - inter_xmin) * max(0, inter_ymax - inter_ymin)\n",
        "\n",
        "    box1_area = (x1_max - x1_min) * (y1_max - y1_min)\n",
        "    box2_area = (x2_max - x2_min) * (y2_max - y2_min)\n",
        "\n",
        "    union_area = box1_area + box2_area - inter_area\n",
        "\n",
        "    return inter_area / union_area if union_area > 0 else 0\n",
        "\n",
        "def custom_metric(box1, box2, img_width, img_height, alpha=0.5, beta=0.3, gamma=0.2):\n",
        "    iou = compute_iou(box1, box2)\n",
        "\n",
        "    center_dist = np.sqrt((box1[0] - box2[0]) ** 2 + (box1[1] - box2[1]) ** 2)\n",
        "    diag = np.sqrt(img_width ** 2 + img_height ** 2)\n",
        "    normalized_center_dist = center_dist / diag\n",
        "\n",
        "    ar1 = box1[2] / box1[3]\n",
        "    ar2 = box2[2] / box2[3]\n",
        "    ar_sim = 1 - abs(ar1 - ar2) / max(ar1, ar2)\n",
        "\n",
        "    return alpha * iou + beta * (1 - normalized_center_dist) + gamma * ar_sim\n"
      ],
      "metadata": {
        "id": "xH9bPtX2Pt_V"
      },
      "execution_count": null,
      "outputs": []
    },
    {
      "cell_type": "markdown",
      "source": [
        "**Example Usage**"
      ],
      "metadata": {
        "id": "YbttwlekQAQH"
      }
    },
    {
      "cell_type": "code",
      "source": [
        "# YOLO box format: [x_center, y_center, width, height] (normalized between 0 and 1)\n",
        "box_pred = [0.5, 0.5, 0.4, 0.3]\n",
        "box_true = [0.52, 0.48, 0.35, 0.32]\n",
        "\n",
        "score = custom_metric(box_pred, box_true, img_width=640, img_height=640)\n",
        "print(\"Custom similarity score:\", score)\n"
      ],
      "metadata": {
        "colab": {
          "base_uri": "https://localhost:8080/"
        },
        "id": "BC8bTihyP9Y9",
        "outputId": "20e851e6-ad05-4d5e-c0dc-6ce9cc5e7f08"
      },
      "execution_count": null,
      "outputs": [
        {
          "output_type": "stream",
          "name": "stdout",
          "text": [
            "Custom similarity score: 0.8529420138888889\n"
          ]
        }
      ]
    },
    {
      "cell_type": "markdown",
      "source": [
        "**YOLOv5 Detection on Validation Set**"
      ],
      "metadata": {
        "id": "pAlLE_ezThvo"
      }
    },
    {
      "cell_type": "code",
      "source": [
        "%pwd"
      ],
      "metadata": {
        "colab": {
          "base_uri": "https://localhost:8080/",
          "height": 36
        },
        "id": "aUxwfDHOVa_X",
        "outputId": "76256033-bd83-4f2b-d6a4-51978e3d4b13"
      },
      "execution_count": null,
      "outputs": [
        {
          "output_type": "execute_result",
          "data": {
            "text/plain": [
              "'/content'"
            ],
            "application/vnd.google.colaboratory.intrinsic+json": {
              "type": "string"
            }
          },
          "metadata": {},
          "execution_count": 5
        }
      ]
    },
    {
      "cell_type": "code",
      "source": [
        "%cd /content/drive/MyDrive/AI_Internship/task3"
      ],
      "metadata": {
        "colab": {
          "base_uri": "https://localhost:8080/"
        },
        "id": "zDy9I-3iVe1u",
        "outputId": "cf464335-e093-4f4c-bd80-35e2f5056c0a"
      },
      "execution_count": null,
      "outputs": [
        {
          "output_type": "stream",
          "name": "stdout",
          "text": [
            "/content/drive/MyDrive/AI_Internship/task3\n"
          ]
        }
      ]
    },
    {
      "cell_type": "code",
      "source": [
        "!git clone https://github.com/ultralytics/yolov5.git"
      ],
      "metadata": {
        "colab": {
          "base_uri": "https://localhost:8080/"
        },
        "id": "G9EczCg2Ug2Q",
        "outputId": "add9bb46-9889-42ca-ff36-77a8f964420b"
      },
      "execution_count": null,
      "outputs": [
        {
          "output_type": "stream",
          "name": "stdout",
          "text": [
            "Cloning into 'yolov5'...\n",
            "remote: Enumerating objects: 17400, done.\u001b[K\n",
            "remote: Counting objects: 100% (80/80), done.\u001b[K\n",
            "remote: Compressing objects: 100% (60/60), done.\u001b[K\n",
            "remote: Total 17400 (delta 58), reused 20 (delta 20), pack-reused 17320 (from 3)\u001b[K\n",
            "Receiving objects: 100% (17400/17400), 16.26 MiB | 12.46 MiB/s, done.\n",
            "Resolving deltas: 100% (11921/11921), done.\n",
            "Updating files: 100% (146/146), done.\n"
          ]
        }
      ]
    },
    {
      "cell_type": "code",
      "source": [
        "%cd yolov5/"
      ],
      "metadata": {
        "colab": {
          "base_uri": "https://localhost:8080/"
        },
        "id": "1x7ztVPBV6g7",
        "outputId": "b80e1cb9-a08d-4a1c-8f35-de4b5cf8b693"
      },
      "execution_count": null,
      "outputs": [
        {
          "output_type": "stream",
          "name": "stdout",
          "text": [
            "/content/drive/MyDrive/AI_Internship/task3/yolov5\n"
          ]
        }
      ]
    },
    {
      "cell_type": "code",
      "source": [
        "!pip install -r requirements.txt"
      ],
      "metadata": {
        "colab": {
          "base_uri": "https://localhost:8080/"
        },
        "id": "HbFk07w8WqhS",
        "outputId": "09a83285-b038-43ce-a01f-64a0028a0cda"
      },
      "execution_count": null,
      "outputs": [
        {
          "output_type": "stream",
          "name": "stdout",
          "text": [
            "Requirement already satisfied: gitpython>=3.1.30 in /usr/local/lib/python3.11/dist-packages (from -r requirements.txt (line 5)) (3.1.44)\n",
            "Requirement already satisfied: matplotlib>=3.3 in /usr/local/lib/python3.11/dist-packages (from -r requirements.txt (line 6)) (3.10.0)\n",
            "Requirement already satisfied: numpy>=1.23.5 in /usr/local/lib/python3.11/dist-packages (from -r requirements.txt (line 7)) (2.0.2)\n",
            "Requirement already satisfied: opencv-python>=4.1.1 in /usr/local/lib/python3.11/dist-packages (from -r requirements.txt (line 8)) (4.11.0.86)\n",
            "Requirement already satisfied: pillow>=10.3.0 in /usr/local/lib/python3.11/dist-packages (from -r requirements.txt (line 9)) (11.1.0)\n",
            "Requirement already satisfied: psutil in /usr/local/lib/python3.11/dist-packages (from -r requirements.txt (line 10)) (5.9.5)\n",
            "Requirement already satisfied: PyYAML>=5.3.1 in /usr/local/lib/python3.11/dist-packages (from -r requirements.txt (line 11)) (6.0.2)\n",
            "Requirement already satisfied: requests>=2.32.2 in /usr/local/lib/python3.11/dist-packages (from -r requirements.txt (line 12)) (2.32.3)\n",
            "Requirement already satisfied: scipy>=1.4.1 in /usr/local/lib/python3.11/dist-packages (from -r requirements.txt (line 13)) (1.14.1)\n",
            "Collecting thop>=0.1.1 (from -r requirements.txt (line 14))\n",
            "  Downloading thop-0.1.1.post2209072238-py3-none-any.whl.metadata (2.7 kB)\n",
            "Requirement already satisfied: torch>=1.8.0 in /usr/local/lib/python3.11/dist-packages (from -r requirements.txt (line 15)) (2.6.0+cu124)\n",
            "Requirement already satisfied: torchvision>=0.9.0 in /usr/local/lib/python3.11/dist-packages (from -r requirements.txt (line 16)) (0.21.0+cu124)\n",
            "Requirement already satisfied: tqdm>=4.66.3 in /usr/local/lib/python3.11/dist-packages (from -r requirements.txt (line 17)) (4.67.1)\n",
            "Collecting ultralytics>=8.2.34 (from -r requirements.txt (line 18))\n",
            "  Downloading ultralytics-8.3.110-py3-none-any.whl.metadata (37 kB)\n",
            "Requirement already satisfied: pandas>=1.1.4 in /usr/local/lib/python3.11/dist-packages (from -r requirements.txt (line 27)) (2.2.2)\n",
            "Requirement already satisfied: seaborn>=0.11.0 in /usr/local/lib/python3.11/dist-packages (from -r requirements.txt (line 28)) (0.13.2)\n",
            "Requirement already satisfied: setuptools>=70.0.0 in /usr/local/lib/python3.11/dist-packages (from -r requirements.txt (line 42)) (75.2.0)\n",
            "Requirement already satisfied: gitdb<5,>=4.0.1 in /usr/local/lib/python3.11/dist-packages (from gitpython>=3.1.30->-r requirements.txt (line 5)) (4.0.12)\n",
            "Requirement already satisfied: contourpy>=1.0.1 in /usr/local/lib/python3.11/dist-packages (from matplotlib>=3.3->-r requirements.txt (line 6)) (1.3.1)\n",
            "Requirement already satisfied: cycler>=0.10 in /usr/local/lib/python3.11/dist-packages (from matplotlib>=3.3->-r requirements.txt (line 6)) (0.12.1)\n",
            "Requirement already satisfied: fonttools>=4.22.0 in /usr/local/lib/python3.11/dist-packages (from matplotlib>=3.3->-r requirements.txt (line 6)) (4.57.0)\n",
            "Requirement already satisfied: kiwisolver>=1.3.1 in /usr/local/lib/python3.11/dist-packages (from matplotlib>=3.3->-r requirements.txt (line 6)) (1.4.8)\n",
            "Requirement already satisfied: packaging>=20.0 in /usr/local/lib/python3.11/dist-packages (from matplotlib>=3.3->-r requirements.txt (line 6)) (24.2)\n",
            "Requirement already satisfied: pyparsing>=2.3.1 in /usr/local/lib/python3.11/dist-packages (from matplotlib>=3.3->-r requirements.txt (line 6)) (3.2.3)\n",
            "Requirement already satisfied: python-dateutil>=2.7 in /usr/local/lib/python3.11/dist-packages (from matplotlib>=3.3->-r requirements.txt (line 6)) (2.8.2)\n",
            "Requirement already satisfied: charset-normalizer<4,>=2 in /usr/local/lib/python3.11/dist-packages (from requests>=2.32.2->-r requirements.txt (line 12)) (3.4.1)\n",
            "Requirement already satisfied: idna<4,>=2.5 in /usr/local/lib/python3.11/dist-packages (from requests>=2.32.2->-r requirements.txt (line 12)) (3.10)\n",
            "Requirement already satisfied: urllib3<3,>=1.21.1 in /usr/local/lib/python3.11/dist-packages (from requests>=2.32.2->-r requirements.txt (line 12)) (2.3.0)\n",
            "Requirement already satisfied: certifi>=2017.4.17 in /usr/local/lib/python3.11/dist-packages (from requests>=2.32.2->-r requirements.txt (line 12)) (2025.1.31)\n",
            "Requirement already satisfied: filelock in /usr/local/lib/python3.11/dist-packages (from torch>=1.8.0->-r requirements.txt (line 15)) (3.18.0)\n",
            "Requirement already satisfied: typing-extensions>=4.10.0 in /usr/local/lib/python3.11/dist-packages (from torch>=1.8.0->-r requirements.txt (line 15)) (4.13.1)\n",
            "Requirement already satisfied: networkx in /usr/local/lib/python3.11/dist-packages (from torch>=1.8.0->-r requirements.txt (line 15)) (3.4.2)\n",
            "Requirement already satisfied: jinja2 in /usr/local/lib/python3.11/dist-packages (from torch>=1.8.0->-r requirements.txt (line 15)) (3.1.6)\n",
            "Requirement already satisfied: fsspec in /usr/local/lib/python3.11/dist-packages (from torch>=1.8.0->-r requirements.txt (line 15)) (2025.3.2)\n",
            "Collecting nvidia-cuda-nvrtc-cu12==12.4.127 (from torch>=1.8.0->-r requirements.txt (line 15))\n",
            "  Downloading nvidia_cuda_nvrtc_cu12-12.4.127-py3-none-manylinux2014_x86_64.whl.metadata (1.5 kB)\n",
            "Collecting nvidia-cuda-runtime-cu12==12.4.127 (from torch>=1.8.0->-r requirements.txt (line 15))\n",
            "  Downloading nvidia_cuda_runtime_cu12-12.4.127-py3-none-manylinux2014_x86_64.whl.metadata (1.5 kB)\n",
            "Collecting nvidia-cuda-cupti-cu12==12.4.127 (from torch>=1.8.0->-r requirements.txt (line 15))\n",
            "  Downloading nvidia_cuda_cupti_cu12-12.4.127-py3-none-manylinux2014_x86_64.whl.metadata (1.6 kB)\n",
            "Collecting nvidia-cudnn-cu12==9.1.0.70 (from torch>=1.8.0->-r requirements.txt (line 15))\n",
            "  Downloading nvidia_cudnn_cu12-9.1.0.70-py3-none-manylinux2014_x86_64.whl.metadata (1.6 kB)\n",
            "Collecting nvidia-cublas-cu12==12.4.5.8 (from torch>=1.8.0->-r requirements.txt (line 15))\n",
            "  Downloading nvidia_cublas_cu12-12.4.5.8-py3-none-manylinux2014_x86_64.whl.metadata (1.5 kB)\n",
            "Collecting nvidia-cufft-cu12==11.2.1.3 (from torch>=1.8.0->-r requirements.txt (line 15))\n",
            "  Downloading nvidia_cufft_cu12-11.2.1.3-py3-none-manylinux2014_x86_64.whl.metadata (1.5 kB)\n",
            "Collecting nvidia-curand-cu12==10.3.5.147 (from torch>=1.8.0->-r requirements.txt (line 15))\n",
            "  Downloading nvidia_curand_cu12-10.3.5.147-py3-none-manylinux2014_x86_64.whl.metadata (1.5 kB)\n",
            "Collecting nvidia-cusolver-cu12==11.6.1.9 (from torch>=1.8.0->-r requirements.txt (line 15))\n",
            "  Downloading nvidia_cusolver_cu12-11.6.1.9-py3-none-manylinux2014_x86_64.whl.metadata (1.6 kB)\n",
            "Collecting nvidia-cusparse-cu12==12.3.1.170 (from torch>=1.8.0->-r requirements.txt (line 15))\n",
            "  Downloading nvidia_cusparse_cu12-12.3.1.170-py3-none-manylinux2014_x86_64.whl.metadata (1.6 kB)\n",
            "Requirement already satisfied: nvidia-cusparselt-cu12==0.6.2 in /usr/local/lib/python3.11/dist-packages (from torch>=1.8.0->-r requirements.txt (line 15)) (0.6.2)\n",
            "Requirement already satisfied: nvidia-nccl-cu12==2.21.5 in /usr/local/lib/python3.11/dist-packages (from torch>=1.8.0->-r requirements.txt (line 15)) (2.21.5)\n",
            "Requirement already satisfied: nvidia-nvtx-cu12==12.4.127 in /usr/local/lib/python3.11/dist-packages (from torch>=1.8.0->-r requirements.txt (line 15)) (12.4.127)\n",
            "Collecting nvidia-nvjitlink-cu12==12.4.127 (from torch>=1.8.0->-r requirements.txt (line 15))\n",
            "  Downloading nvidia_nvjitlink_cu12-12.4.127-py3-none-manylinux2014_x86_64.whl.metadata (1.5 kB)\n",
            "Requirement already satisfied: triton==3.2.0 in /usr/local/lib/python3.11/dist-packages (from torch>=1.8.0->-r requirements.txt (line 15)) (3.2.0)\n",
            "Requirement already satisfied: sympy==1.13.1 in /usr/local/lib/python3.11/dist-packages (from torch>=1.8.0->-r requirements.txt (line 15)) (1.13.1)\n",
            "Requirement already satisfied: mpmath<1.4,>=1.1.0 in /usr/local/lib/python3.11/dist-packages (from sympy==1.13.1->torch>=1.8.0->-r requirements.txt (line 15)) (1.3.0)\n",
            "Requirement already satisfied: py-cpuinfo in /usr/local/lib/python3.11/dist-packages (from ultralytics>=8.2.34->-r requirements.txt (line 18)) (9.0.0)\n",
            "Collecting ultralytics-thop>=2.0.0 (from ultralytics>=8.2.34->-r requirements.txt (line 18))\n",
            "  Downloading ultralytics_thop-2.0.14-py3-none-any.whl.metadata (9.4 kB)\n",
            "Requirement already satisfied: pytz>=2020.1 in /usr/local/lib/python3.11/dist-packages (from pandas>=1.1.4->-r requirements.txt (line 27)) (2025.2)\n",
            "Requirement already satisfied: tzdata>=2022.7 in /usr/local/lib/python3.11/dist-packages (from pandas>=1.1.4->-r requirements.txt (line 27)) (2025.2)\n",
            "Requirement already satisfied: smmap<6,>=3.0.1 in /usr/local/lib/python3.11/dist-packages (from gitdb<5,>=4.0.1->gitpython>=3.1.30->-r requirements.txt (line 5)) (5.0.2)\n",
            "Requirement already satisfied: six>=1.5 in /usr/local/lib/python3.11/dist-packages (from python-dateutil>=2.7->matplotlib>=3.3->-r requirements.txt (line 6)) (1.17.0)\n",
            "Requirement already satisfied: MarkupSafe>=2.0 in /usr/local/lib/python3.11/dist-packages (from jinja2->torch>=1.8.0->-r requirements.txt (line 15)) (3.0.2)\n",
            "Downloading thop-0.1.1.post2209072238-py3-none-any.whl (15 kB)\n",
            "Downloading nvidia_cublas_cu12-12.4.5.8-py3-none-manylinux2014_x86_64.whl (363.4 MB)\n",
            "\u001b[2K   \u001b[90m━━━━━━━━━━━━━━━━━━━━━━━━━━━━━━━━━━━━━━━━\u001b[0m \u001b[32m363.4/363.4 MB\u001b[0m \u001b[31m4.3 MB/s\u001b[0m eta \u001b[36m0:00:00\u001b[0m\n",
            "\u001b[?25hDownloading nvidia_cuda_cupti_cu12-12.4.127-py3-none-manylinux2014_x86_64.whl (13.8 MB)\n",
            "\u001b[2K   \u001b[90m━━━━━━━━━━━━━━━━━━━━━━━━━━━━━━━━━━━━━━━━\u001b[0m \u001b[32m13.8/13.8 MB\u001b[0m \u001b[31m79.3 MB/s\u001b[0m eta \u001b[36m0:00:00\u001b[0m\n",
            "\u001b[?25hDownloading nvidia_cuda_nvrtc_cu12-12.4.127-py3-none-manylinux2014_x86_64.whl (24.6 MB)\n",
            "\u001b[2K   \u001b[90m━━━━━━━━━━━━━━━━━━━━━━━━━━━━━━━━━━━━━━━━\u001b[0m \u001b[32m24.6/24.6 MB\u001b[0m \u001b[31m27.3 MB/s\u001b[0m eta \u001b[36m0:00:00\u001b[0m\n",
            "\u001b[?25hDownloading nvidia_cuda_runtime_cu12-12.4.127-py3-none-manylinux2014_x86_64.whl (883 kB)\n",
            "\u001b[2K   \u001b[90m━━━━━━━━━━━━━━━━━━━━━━━━━━━━━━━━━━━━━━━━\u001b[0m \u001b[32m883.7/883.7 kB\u001b[0m \u001b[31m50.2 MB/s\u001b[0m eta \u001b[36m0:00:00\u001b[0m\n",
            "\u001b[?25hDownloading nvidia_cudnn_cu12-9.1.0.70-py3-none-manylinux2014_x86_64.whl (664.8 MB)\n",
            "\u001b[2K   \u001b[90m━━━━━━━━━━━━━━━━━━━━━━━━━━━━━━━━━━━━━━━━\u001b[0m \u001b[32m664.8/664.8 MB\u001b[0m \u001b[31m1.1 MB/s\u001b[0m eta \u001b[36m0:00:00\u001b[0m\n",
            "\u001b[?25hDownloading nvidia_cufft_cu12-11.2.1.3-py3-none-manylinux2014_x86_64.whl (211.5 MB)\n",
            "\u001b[2K   \u001b[90m━━━━━━━━━━━━━━━━━━━━━━━━━━━━━━━━━━━━━━━━\u001b[0m \u001b[32m211.5/211.5 MB\u001b[0m \u001b[31m6.2 MB/s\u001b[0m eta \u001b[36m0:00:00\u001b[0m\n",
            "\u001b[?25hDownloading nvidia_curand_cu12-10.3.5.147-py3-none-manylinux2014_x86_64.whl (56.3 MB)\n",
            "\u001b[2K   \u001b[90m━━━━━━━━━━━━━━━━━━━━━━━━━━━━━━━━━━━━━━━━\u001b[0m \u001b[32m56.3/56.3 MB\u001b[0m \u001b[31m12.7 MB/s\u001b[0m eta \u001b[36m0:00:00\u001b[0m\n",
            "\u001b[?25hDownloading nvidia_cusolver_cu12-11.6.1.9-py3-none-manylinux2014_x86_64.whl (127.9 MB)\n",
            "\u001b[2K   \u001b[90m━━━━━━━━━━━━━━━━━━━━━━━━━━━━━━━━━━━━━━━━\u001b[0m \u001b[32m127.9/127.9 MB\u001b[0m \u001b[31m7.1 MB/s\u001b[0m eta \u001b[36m0:00:00\u001b[0m\n",
            "\u001b[?25hDownloading nvidia_cusparse_cu12-12.3.1.170-py3-none-manylinux2014_x86_64.whl (207.5 MB)\n",
            "\u001b[2K   \u001b[90m━━━━━━━━━━━━━━━━━━━━━━━━━━━━━━━━━━━━━━━━\u001b[0m \u001b[32m207.5/207.5 MB\u001b[0m \u001b[31m4.5 MB/s\u001b[0m eta \u001b[36m0:00:00\u001b[0m\n",
            "\u001b[?25hDownloading nvidia_nvjitlink_cu12-12.4.127-py3-none-manylinux2014_x86_64.whl (21.1 MB)\n",
            "\u001b[2K   \u001b[90m━━━━━━━━━━━━━━━━━━━━━━━━━━━━━━━━━━━━━━━━\u001b[0m \u001b[32m21.1/21.1 MB\u001b[0m \u001b[31m56.6 MB/s\u001b[0m eta \u001b[36m0:00:00\u001b[0m\n",
            "\u001b[?25hDownloading ultralytics-8.3.110-py3-none-any.whl (978 kB)\n",
            "\u001b[2K   \u001b[90m━━━━━━━━━━━━━━━━━━━━━━━━━━━━━━━━━━━━━━━━\u001b[0m \u001b[32m978.8/978.8 kB\u001b[0m \u001b[31m42.0 MB/s\u001b[0m eta \u001b[36m0:00:00\u001b[0m\n",
            "\u001b[?25hDownloading ultralytics_thop-2.0.14-py3-none-any.whl (26 kB)\n",
            "Installing collected packages: nvidia-nvjitlink-cu12, nvidia-curand-cu12, nvidia-cufft-cu12, nvidia-cuda-runtime-cu12, nvidia-cuda-nvrtc-cu12, nvidia-cuda-cupti-cu12, nvidia-cublas-cu12, nvidia-cusparse-cu12, nvidia-cudnn-cu12, nvidia-cusolver-cu12, ultralytics-thop, thop, ultralytics\n",
            "  Attempting uninstall: nvidia-nvjitlink-cu12\n",
            "    Found existing installation: nvidia-nvjitlink-cu12 12.5.82\n",
            "    Uninstalling nvidia-nvjitlink-cu12-12.5.82:\n",
            "      Successfully uninstalled nvidia-nvjitlink-cu12-12.5.82\n",
            "  Attempting uninstall: nvidia-curand-cu12\n",
            "    Found existing installation: nvidia-curand-cu12 10.3.6.82\n",
            "    Uninstalling nvidia-curand-cu12-10.3.6.82:\n",
            "      Successfully uninstalled nvidia-curand-cu12-10.3.6.82\n",
            "  Attempting uninstall: nvidia-cufft-cu12\n",
            "    Found existing installation: nvidia-cufft-cu12 11.2.3.61\n",
            "    Uninstalling nvidia-cufft-cu12-11.2.3.61:\n",
            "      Successfully uninstalled nvidia-cufft-cu12-11.2.3.61\n",
            "  Attempting uninstall: nvidia-cuda-runtime-cu12\n",
            "    Found existing installation: nvidia-cuda-runtime-cu12 12.5.82\n",
            "    Uninstalling nvidia-cuda-runtime-cu12-12.5.82:\n",
            "      Successfully uninstalled nvidia-cuda-runtime-cu12-12.5.82\n",
            "  Attempting uninstall: nvidia-cuda-nvrtc-cu12\n",
            "    Found existing installation: nvidia-cuda-nvrtc-cu12 12.5.82\n",
            "    Uninstalling nvidia-cuda-nvrtc-cu12-12.5.82:\n",
            "      Successfully uninstalled nvidia-cuda-nvrtc-cu12-12.5.82\n",
            "  Attempting uninstall: nvidia-cuda-cupti-cu12\n",
            "    Found existing installation: nvidia-cuda-cupti-cu12 12.5.82\n",
            "    Uninstalling nvidia-cuda-cupti-cu12-12.5.82:\n",
            "      Successfully uninstalled nvidia-cuda-cupti-cu12-12.5.82\n",
            "  Attempting uninstall: nvidia-cublas-cu12\n",
            "    Found existing installation: nvidia-cublas-cu12 12.5.3.2\n",
            "    Uninstalling nvidia-cublas-cu12-12.5.3.2:\n",
            "      Successfully uninstalled nvidia-cublas-cu12-12.5.3.2\n",
            "  Attempting uninstall: nvidia-cusparse-cu12\n",
            "    Found existing installation: nvidia-cusparse-cu12 12.5.1.3\n",
            "    Uninstalling nvidia-cusparse-cu12-12.5.1.3:\n",
            "      Successfully uninstalled nvidia-cusparse-cu12-12.5.1.3\n",
            "  Attempting uninstall: nvidia-cudnn-cu12\n",
            "    Found existing installation: nvidia-cudnn-cu12 9.3.0.75\n",
            "    Uninstalling nvidia-cudnn-cu12-9.3.0.75:\n",
            "      Successfully uninstalled nvidia-cudnn-cu12-9.3.0.75\n",
            "  Attempting uninstall: nvidia-cusolver-cu12\n",
            "    Found existing installation: nvidia-cusolver-cu12 11.6.3.83\n",
            "    Uninstalling nvidia-cusolver-cu12-11.6.3.83:\n",
            "      Successfully uninstalled nvidia-cusolver-cu12-11.6.3.83\n",
            "Successfully installed nvidia-cublas-cu12-12.4.5.8 nvidia-cuda-cupti-cu12-12.4.127 nvidia-cuda-nvrtc-cu12-12.4.127 nvidia-cuda-runtime-cu12-12.4.127 nvidia-cudnn-cu12-9.1.0.70 nvidia-cufft-cu12-11.2.1.3 nvidia-curand-cu12-10.3.5.147 nvidia-cusolver-cu12-11.6.1.9 nvidia-cusparse-cu12-12.3.1.170 nvidia-nvjitlink-cu12-12.4.127 thop-0.1.1.post2209072238 ultralytics-8.3.110 ultralytics-thop-2.0.14\n"
          ]
        }
      ]
    },
    {
      "cell_type": "code",
      "source": [
        "yaml_text = \"\"\"\n",
        "train: /content/drive/MyDrive/AI_Internship/task3/animals_yolo/train\n",
        "val: /content/drive/MyDrive/AI_Internship/task3/animals_yolo/val\n",
        "\n",
        "nc: 2\n",
        "names: ['cat', 'dog']\n",
        "\"\"\"\n",
        "\n",
        "with open(\"/content/drive/MyDrive/AI_Internship/task3/animals_yolo.yaml\", \"w\") as f:\n",
        "    f.write(yaml_text)\n"
      ],
      "metadata": {
        "id": "TNihblAnYK_R"
      },
      "execution_count": null,
      "outputs": []
    },
    {
      "cell_type": "code",
      "source": [
        "%pwd"
      ],
      "metadata": {
        "colab": {
          "base_uri": "https://localhost:8080/",
          "height": 36
        },
        "id": "bZvJxFmxZDdF",
        "outputId": "be3844d7-e0d9-4bd8-c4d7-9ca1b40332d2"
      },
      "execution_count": null,
      "outputs": [
        {
          "output_type": "execute_result",
          "data": {
            "text/plain": [
              "'/content/drive/MyDrive/AI_Internship/task3/yolov5'"
            ],
            "application/vnd.google.colaboratory.intrinsic+json": {
              "type": "string"
            }
          },
          "metadata": {},
          "execution_count": 15
        }
      ]
    },
    {
      "cell_type": "code",
      "source": [
        "!python train.py \\\n",
        "  --img 640 \\\n",
        "  --batch 8 \\\n",
        "  --epochs 20 \\\n",
        "  --data /content/drive/MyDrive/AI_Internship/task3/animals_yolo.yaml \\\n",
        "  --weights yolov5s.pt \\\n",
        "  --name animals_yolov5s\n"
      ],
      "metadata": {
        "colab": {
          "base_uri": "https://localhost:8080/"
        },
        "id": "LL2v46SbYX2f",
        "outputId": "9e219a4a-2a76-4571-da3a-502aa3d2edb1"
      },
      "execution_count": null,
      "outputs": [
        {
          "output_type": "stream",
          "name": "stdout",
          "text": [
            "Creating new Ultralytics Settings v0.0.6 file ✅ \n",
            "View Ultralytics Settings with 'yolo settings' or at '/root/.config/Ultralytics/settings.json'\n",
            "Update Settings with 'yolo settings key=value', i.e. 'yolo settings runs_dir=path/to/dir'. For help see https://docs.ultralytics.com/quickstart/#ultralytics-settings.\n",
            "\u001b[34m\u001b[1mwandb\u001b[0m: WARNING ⚠️ wandb is deprecated and will be removed in a future release. See supported integrations at https://github.com/ultralytics/yolov5#integrations.\n",
            "2025-04-17 20:14:13.153297: E external/local_xla/xla/stream_executor/cuda/cuda_fft.cc:477] Unable to register cuFFT factory: Attempting to register factory for plugin cuFFT when one has already been registered\n",
            "WARNING: All log messages before absl::InitializeLog() is called are written to STDERR\n",
            "E0000 00:00:1744920853.434012   10141 cuda_dnn.cc:8310] Unable to register cuDNN factory: Attempting to register factory for plugin cuDNN when one has already been registered\n",
            "E0000 00:00:1744920853.503172   10141 cuda_blas.cc:1418] Unable to register cuBLAS factory: Attempting to register factory for plugin cuBLAS when one has already been registered\n",
            "\u001b[34m\u001b[1mwandb\u001b[0m: Using wandb-core as the SDK backend.  Please refer to https://wandb.me/wandb-core for more information.\n",
            "\u001b[34m\u001b[1mwandb\u001b[0m: (1) Create a W&B account\n",
            "\u001b[34m\u001b[1mwandb\u001b[0m: (2) Use an existing W&B account\n",
            "\u001b[34m\u001b[1mwandb\u001b[0m: (3) Don't visualize my results\n",
            "\u001b[34m\u001b[1mwandb\u001b[0m: Enter your choice: (30 second timeout) \n",
            "\u001b[34m\u001b[1mwandb\u001b[0m: W&B disabled due to login timeout.\n",
            "\u001b[34m\u001b[1mtrain: \u001b[0mweights=yolov5s.pt, cfg=, data=/content/drive/MyDrive/AI_Internship/task3/animals_yolo.yaml, hyp=data/hyps/hyp.scratch-low.yaml, epochs=20, batch_size=8, imgsz=640, rect=False, resume=False, nosave=False, noval=False, noautoanchor=False, noplots=False, evolve=None, evolve_population=data/hyps, resume_evolve=None, bucket=, cache=None, image_weights=False, device=, multi_scale=False, single_cls=False, optimizer=SGD, sync_bn=False, workers=8, project=runs/train, name=animals_yolov5s, exist_ok=False, quad=False, cos_lr=False, label_smoothing=0.0, patience=100, freeze=[0], save_period=-1, seed=0, local_rank=-1, entity=None, upload_dataset=False, bbox_interval=-1, artifact_alias=latest, ndjson_console=False, ndjson_file=False\n",
            "\u001b[34m\u001b[1mgithub: \u001b[0mup to date with https://github.com/ultralytics/yolov5 ✅\n",
            "YOLOv5 🚀 v7.0-414-g78daef4b Python-3.11.12 torch-2.6.0+cu124 CPU\n",
            "\n",
            "\u001b[34m\u001b[1mhyperparameters: \u001b[0mlr0=0.01, lrf=0.01, momentum=0.937, weight_decay=0.0005, warmup_epochs=3.0, warmup_momentum=0.8, warmup_bias_lr=0.1, box=0.05, cls=0.5, cls_pw=1.0, obj=1.0, obj_pw=1.0, iou_t=0.2, anchor_t=4.0, fl_gamma=0.0, hsv_h=0.015, hsv_s=0.7, hsv_v=0.4, degrees=0.0, translate=0.1, scale=0.5, shear=0.0, perspective=0.0, flipud=0.0, fliplr=0.5, mosaic=1.0, mixup=0.0, copy_paste=0.0\n",
            "\u001b[34m\u001b[1mComet: \u001b[0mrun 'pip install comet_ml' to automatically track and visualize YOLOv5 🚀 runs in Comet\n",
            "\u001b[34m\u001b[1mTensorBoard: \u001b[0mStart with 'tensorboard --logdir runs/train', view at http://localhost:6006/\n",
            "\n",
            "Dataset not found ⚠️, missing paths ['/content/drive/MyDrive/AI_Internship/task3/animals_yolo/val']\n",
            "Traceback (most recent call last):\n",
            "  File \"/content/drive/MyDrive/AI_Internship/task3/yolov5/train.py\", line 986, in <module>\n",
            "    main(opt)\n",
            "  File \"/content/drive/MyDrive/AI_Internship/task3/yolov5/train.py\", line 688, in main\n",
            "    train(opt.hyp, opt, device, callbacks)\n",
            "  File \"/content/drive/MyDrive/AI_Internship/task3/yolov5/train.py\", line 203, in train\n",
            "    data_dict = data_dict or check_dataset(data)  # check if None\n",
            "                             ^^^^^^^^^^^^^^^^^^^\n",
            "  File \"/content/drive/MyDrive/AI_Internship/task3/yolov5/utils/general.py\", line 564, in check_dataset\n",
            "    raise Exception(\"Dataset not found ❌\")\n",
            "Exception: Dataset not found ❌\n"
          ]
        }
      ]
    },
    {
      "cell_type": "code",
      "source": [
        "!python detect.py \\\n",
        "  --weights /content/drive/MyDrive/AI_Internship/task3/yolov5/runs/train/animals_yolov5s/weights/best.pt \\\n",
        "  --source /content/drive/MyDrive/AI_Internship/task3/animals_yolo/images/val \\\n",
        "  --img 640 \\\n",
        "  --save-txt \\\n",
        "  --save-conf \\\n",
        "  --project /content/drive/MyDrive/AI_Internship/task3/yolov5/runs/detect \\\n",
        "  --name exp \\\n",
        "  --exist-ok\n"
      ],
      "metadata": {
        "colab": {
          "base_uri": "https://localhost:8080/"
        },
        "id": "ML1hfiyqZPgP",
        "outputId": "18fd9982-6920-47af-80ec-a4a10c26b838"
      },
      "execution_count": null,
      "outputs": [
        {
          "output_type": "stream",
          "name": "stdout",
          "text": [
            "\u001b[34m\u001b[1mdetect: \u001b[0mweights=['/content/drive/MyDrive/AI_Internship/task3/yolov5/runs/train/animals_yolov5s/weights/best.pt'], source=/content/drive/MyDrive/AI_Internship/task3/animals_yolo/images/val, data=data/coco128.yaml, imgsz=[640, 640], conf_thres=0.25, iou_thres=0.45, max_det=1000, device=, view_img=False, save_txt=True, save_format=0, save_csv=False, save_conf=True, save_crop=False, nosave=False, classes=None, agnostic_nms=False, augment=False, visualize=False, update=False, project=/content/drive/MyDrive/AI_Internship/task3/yolov5/runs/detect, name=exp, exist_ok=True, line_thickness=3, hide_labels=False, hide_conf=False, half=False, dnn=False, vid_stride=1\n",
            "YOLOv5 🚀 v7.0-414-g78daef4b Python-3.11.12 torch-2.6.0+cu124 CPU\n",
            "\n",
            "Traceback (most recent call last):\n",
            "  File \"/content/drive/MyDrive/AI_Internship/task3/yolov5/detect.py\", line 438, in <module>\n",
            "    main(opt)\n",
            "  File \"/content/drive/MyDrive/AI_Internship/task3/yolov5/detect.py\", line 433, in main\n",
            "    run(**vars(opt))\n",
            "  File \"/usr/local/lib/python3.11/dist-packages/torch/utils/_contextlib.py\", line 116, in decorate_context\n",
            "    return func(*args, **kwargs)\n",
            "           ^^^^^^^^^^^^^^^^^^^^^\n",
            "  File \"/content/drive/MyDrive/AI_Internship/task3/yolov5/detect.py\", line 166, in run\n",
            "    model = DetectMultiBackend(weights, device=device, dnn=dnn, data=data, fp16=half)\n",
            "            ^^^^^^^^^^^^^^^^^^^^^^^^^^^^^^^^^^^^^^^^^^^^^^^^^^^^^^^^^^^^^^^^^^^^^^^^^\n",
            "  File \"/content/drive/MyDrive/AI_Internship/task3/yolov5/models/common.py\", line 489, in __init__\n",
            "    model = attempt_load(weights if isinstance(weights, list) else w, device=device, inplace=True, fuse=fuse)\n",
            "            ^^^^^^^^^^^^^^^^^^^^^^^^^^^^^^^^^^^^^^^^^^^^^^^^^^^^^^^^^^^^^^^^^^^^^^^^^^^^^^^^^^^^^^^^^^^^^^^^^\n",
            "  File \"/content/drive/MyDrive/AI_Internship/task3/yolov5/models/experimental.py\", line 98, in attempt_load\n",
            "    ckpt = torch.load(attempt_download(w), map_location=\"cpu\")  # load\n",
            "           ^^^^^^^^^^^^^^^^^^^^^^^^^^^^^^^^^^^^^^^^^^^^^^^^^^^\n",
            "  File \"/usr/local/lib/python3.11/dist-packages/ultralytics/utils/patches.py\", line 107, in torch_load\n",
            "    return _torch_load(*args, **kwargs)\n",
            "           ^^^^^^^^^^^^^^^^^^^^^^^^^^^^\n",
            "  File \"/usr/local/lib/python3.11/dist-packages/torch/serialization.py\", line 1425, in load\n",
            "    with _open_file_like(f, \"rb\") as opened_file:\n",
            "         ^^^^^^^^^^^^^^^^^^^^^^^^\n",
            "  File \"/usr/local/lib/python3.11/dist-packages/torch/serialization.py\", line 751, in _open_file_like\n",
            "    return _open_file(name_or_buffer, mode)\n",
            "           ^^^^^^^^^^^^^^^^^^^^^^^^^^^^^^^^\n",
            "  File \"/usr/local/lib/python3.11/dist-packages/torch/serialization.py\", line 732, in __init__\n",
            "    super().__init__(open(name, mode))\n",
            "                     ^^^^^^^^^^^^^^^^\n",
            "FileNotFoundError: [Errno 2] No such file or directory: '/content/drive/MyDrive/AI_Internship/task3/yolov5/runs/train/animals_yolov5s/weights/best.pt'\n"
          ]
        }
      ]
    },
    {
      "cell_type": "markdown",
      "source": [
        "**Custom Metric Evaluation**"
      ],
      "metadata": {
        "id": "ZN0wzrSZRYMP"
      }
    },
    {
      "cell_type": "code",
      "source": [
        "import os\n",
        "import numpy as np\n",
        "from tqdm import tqdm\n",
        "\n",
        "from custom_metric import custom_metric  # reuse the function we wrote earlier\n",
        "\n",
        "def read_yolo_labels(label_path):\n",
        "    with open(label_path, 'r') as f:\n",
        "        lines = f.readlines()\n",
        "    return [list(map(float, line.strip().split())) for line in lines]\n",
        "\n",
        "def evaluate_custom_metric(pred_dir, gt_dir, img_width, img_height):\n",
        "    total_score = 0\n",
        "    count = 0\n",
        "\n",
        "    for fname in tqdm(os.listdir(gt_dir)):\n",
        "        if not fname.endswith('.txt'):\n",
        "            continue\n",
        "\n",
        "        gt_boxes = read_yolo_labels(os.path.join(gt_dir, fname))\n",
        "        pred_file = os.path.join(pred_dir, fname)\n",
        "\n",
        "        if not os.path.exists(pred_file):\n",
        "            continue\n",
        "\n",
        "        pred_boxes = read_yolo_labels(pred_file)\n",
        "\n",
        "        for gt in gt_boxes:\n",
        "            best_score = 0\n",
        "            for pred in pred_boxes:\n",
        "                if int(gt[0]) != int(pred[0]):\n",
        "                    continue  # class mismatch\n",
        "                score = custom_metric(gt[1:], pred[1:], img_width, img_height)\n",
        "                best_score = max(best_score, score)\n",
        "            total_score += best_score\n",
        "            count += 1\n",
        "\n",
        "    return total_score / count if count > 0 else 0\n",
        "\n",
        "# Example usage\n",
        "if __name__ == \"__main__\":\n",
        "    pred_folder = \"runs/detect/exp/labels\"       # replace with your folder\n",
        "    gt_folder = \"animals_yolo/labels/val\"\n",
        "    img_width = 640\n",
        "    img_height = 640\n",
        "\n",
        "    avg_score = evaluate_custom_metric(pred_folder, gt_folder, img_width, img_height)\n",
        "    print(f\"\\n🔍 Average Custom Metric Score: {avg_score:.4f}\")\n"
      ],
      "metadata": {
        "id": "pMZK_F_0RSlm"
      },
      "execution_count": null,
      "outputs": []
    }
  ]
}